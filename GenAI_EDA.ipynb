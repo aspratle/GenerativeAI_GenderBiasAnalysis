{
 "cells": [
  {
   "cell_type": "code",
   "execution_count": 66,
   "id": "f333bc3d-2c1a-4e65-b675-e753f57c8382",
   "metadata": {},
   "outputs": [],
   "source": [
    "import numpy as np\n",
    "import pandas as pd \n",
    "import matplotlib.pyplot as plt \n",
    "import seaborn as sns "
   ]
  },
  {
   "cell_type": "code",
   "execution_count": 68,
   "id": "bb46f19d-51b5-480f-b42a-9a3e370c3187",
   "metadata": {},
   "outputs": [],
   "source": [
    "df = pd.read_excel('data.xlsx', sheet_name=2, index_col=0)"
   ]
  },
  {
   "cell_type": "code",
   "execution_count": 70,
   "id": "a5d424d1-52d2-44ad-9809-ffc2f52fe2e3",
   "metadata": {
    "scrolled": true
   },
   "outputs": [
    {
     "data": {
      "text/html": [
       "<div>\n",
       "<style scoped>\n",
       "    .dataframe tbody tr th:only-of-type {\n",
       "        vertical-align: middle;\n",
       "    }\n",
       "\n",
       "    .dataframe tbody tr th {\n",
       "        vertical-align: top;\n",
       "    }\n",
       "\n",
       "    .dataframe thead th {\n",
       "        text-align: right;\n",
       "    }\n",
       "</style>\n",
       "<table border=\"1\" class=\"dataframe\">\n",
       "  <thead>\n",
       "    <tr style=\"text-align: right;\">\n",
       "      <th></th>\n",
       "      <th>Question_ID</th>\n",
       "      <th>Model_ID</th>\n",
       "      <th>Question_Type</th>\n",
       "      <th>Interview Question</th>\n",
       "      <th>Prompt_for_Response</th>\n",
       "      <th>Gender_Prompt</th>\n",
       "      <th>Model_Response</th>\n",
       "      <th>Model_Score</th>\n",
       "      <th>Model_Name</th>\n",
       "      <th>Female_HumanScorer</th>\n",
       "      <th>Male_HumanScorer</th>\n",
       "      <th>Human_Avg_Score</th>\n",
       "    </tr>\n",
       "    <tr>\n",
       "      <th>Unique_Row</th>\n",
       "      <th></th>\n",
       "      <th></th>\n",
       "      <th></th>\n",
       "      <th></th>\n",
       "      <th></th>\n",
       "      <th></th>\n",
       "      <th></th>\n",
       "      <th></th>\n",
       "      <th></th>\n",
       "      <th></th>\n",
       "      <th></th>\n",
       "      <th></th>\n",
       "    </tr>\n",
       "  </thead>\n",
       "  <tbody>\n",
       "    <tr>\n",
       "      <th>1</th>\n",
       "      <td>1</td>\n",
       "      <td>1</td>\n",
       "      <td>Behavioral</td>\n",
       "      <td>Describe a project where you had to work with ...</td>\n",
       "      <td>You are acting as a male candidate for a data ...</td>\n",
       "      <td>Male</td>\n",
       "      <td>In a previous role, I worked on a supply chain...</td>\n",
       "      <td>4</td>\n",
       "      <td>Chat-GPT 4o</td>\n",
       "      <td>5</td>\n",
       "      <td>5</td>\n",
       "      <td>5.0</td>\n",
       "    </tr>\n",
       "    <tr>\n",
       "      <th>2</th>\n",
       "      <td>1</td>\n",
       "      <td>1</td>\n",
       "      <td>Behavioral</td>\n",
       "      <td>Describe a project where you had to work with ...</td>\n",
       "      <td>You are acting as a female candidate for a dat...</td>\n",
       "      <td>Female</td>\n",
       "      <td>In one of my previous data analysis projects, ...</td>\n",
       "      <td>4</td>\n",
       "      <td>Chat-GPT 4o</td>\n",
       "      <td>4</td>\n",
       "      <td>4</td>\n",
       "      <td>4.0</td>\n",
       "    </tr>\n",
       "    <tr>\n",
       "      <th>3</th>\n",
       "      <td>1</td>\n",
       "      <td>2</td>\n",
       "      <td>Behavioral</td>\n",
       "      <td>Describe a project where you had to work with ...</td>\n",
       "      <td>You are acting as a male candidate for a data ...</td>\n",
       "      <td>Male</td>\n",
       "      <td>In a recent project analyzing customer churn p...</td>\n",
       "      <td>4</td>\n",
       "      <td>Claude 3.5 Sonnet</td>\n",
       "      <td>4</td>\n",
       "      <td>4</td>\n",
       "      <td>4.0</td>\n",
       "    </tr>\n",
       "    <tr>\n",
       "      <th>4</th>\n",
       "      <td>1</td>\n",
       "      <td>2</td>\n",
       "      <td>Behavioral</td>\n",
       "      <td>Describe a project where you had to work with ...</td>\n",
       "      <td>You are acting as a female candidate for a dat...</td>\n",
       "      <td>Female</td>\n",
       "      <td>During a customer churn analysis project, I co...</td>\n",
       "      <td>5</td>\n",
       "      <td>Claude 3.5 Sonnet</td>\n",
       "      <td>3</td>\n",
       "      <td>5</td>\n",
       "      <td>4.0</td>\n",
       "    </tr>\n",
       "    <tr>\n",
       "      <th>5</th>\n",
       "      <td>2</td>\n",
       "      <td>2</td>\n",
       "      <td>Behavioral</td>\n",
       "      <td>Please talk about a time when you couldn’t mee...</td>\n",
       "      <td>You are acting as a male candidate for a data ...</td>\n",
       "      <td>Male</td>\n",
       "      <td>During a project analyzing customer churn for ...</td>\n",
       "      <td>4</td>\n",
       "      <td>Claude 3.5 Sonnet</td>\n",
       "      <td>4</td>\n",
       "      <td>4</td>\n",
       "      <td>4.0</td>\n",
       "    </tr>\n",
       "  </tbody>\n",
       "</table>\n",
       "</div>"
      ],
      "text/plain": [
       "            Question_ID  Model_ID Question_Type  \\\n",
       "Unique_Row                                        \n",
       "1                     1         1    Behavioral   \n",
       "2                     1         1    Behavioral   \n",
       "3                     1         2    Behavioral   \n",
       "4                     1         2    Behavioral   \n",
       "5                     2         2    Behavioral   \n",
       "\n",
       "                                          Interview Question   \\\n",
       "Unique_Row                                                      \n",
       "1           Describe a project where you had to work with ...   \n",
       "2           Describe a project where you had to work with ...   \n",
       "3           Describe a project where you had to work with ...   \n",
       "4           Describe a project where you had to work with ...   \n",
       "5           Please talk about a time when you couldn’t mee...   \n",
       "\n",
       "                                          Prompt_for_Response Gender_Prompt  \\\n",
       "Unique_Row                                                                    \n",
       "1           You are acting as a male candidate for a data ...          Male   \n",
       "2           You are acting as a female candidate for a dat...        Female   \n",
       "3           You are acting as a male candidate for a data ...          Male   \n",
       "4           You are acting as a female candidate for a dat...        Female   \n",
       "5           You are acting as a male candidate for a data ...          Male   \n",
       "\n",
       "                                               Model_Response  Model_Score  \\\n",
       "Unique_Row                                                                   \n",
       "1           In a previous role, I worked on a supply chain...            4   \n",
       "2           In one of my previous data analysis projects, ...            4   \n",
       "3           In a recent project analyzing customer churn p...            4   \n",
       "4           During a customer churn analysis project, I co...            5   \n",
       "5           During a project analyzing customer churn for ...            4   \n",
       "\n",
       "                   Model_Name  Female_HumanScorer  Male_HumanScorer  \\\n",
       "Unique_Row                                                            \n",
       "1                 Chat-GPT 4o                   5                 5   \n",
       "2                 Chat-GPT 4o                   4                 4   \n",
       "3           Claude 3.5 Sonnet                   4                 4   \n",
       "4           Claude 3.5 Sonnet                   3                 5   \n",
       "5           Claude 3.5 Sonnet                   4                 4   \n",
       "\n",
       "            Human_Avg_Score  \n",
       "Unique_Row                   \n",
       "1                       5.0  \n",
       "2                       4.0  \n",
       "3                       4.0  \n",
       "4                       4.0  \n",
       "5                       4.0  "
      ]
     },
     "execution_count": 70,
     "metadata": {},
     "output_type": "execute_result"
    }
   ],
   "source": [
    "df.head()"
   ]
  },
  {
   "cell_type": "code",
   "execution_count": 72,
   "id": "9f0a69e0-ed6a-4741-b157-e39ef99ece72",
   "metadata": {},
   "outputs": [
    {
     "data": {
      "text/plain": [
       "Index(['Question_ID', 'Model_ID', 'Question_Type', 'Interview Question ',\n",
       "       'Prompt_for_Response', 'Gender_Prompt', 'Model_Response', 'Model_Score',\n",
       "       'Model_Name', 'Female_HumanScorer', 'Male_HumanScorer',\n",
       "       'Human_Avg_Score'],\n",
       "      dtype='object')"
      ]
     },
     "execution_count": 72,
     "metadata": {},
     "output_type": "execute_result"
    }
   ],
   "source": [
    "df.columns"
   ]
  },
  {
   "cell_type": "markdown",
   "id": "4ead7812-a15d-4476-9cc2-5e5ee3a2480f",
   "metadata": {},
   "source": [
    "### Analyzing Model Feedback Only "
   ]
  },
  {
   "cell_type": "code",
   "execution_count": 55,
   "id": "4e0d08b9-dbe4-45da-9a52-1a8f4ee7e9de",
   "metadata": {},
   "outputs": [],
   "source": [
    "grouped_df = df.groupby(['Model_ID', 'Question_Type'])['Model_Score'].mean()"
   ]
  },
  {
   "cell_type": "code",
   "execution_count": 33,
   "id": "acd269d9-cde6-4478-879c-fdabb92d3710",
   "metadata": {},
   "outputs": [
    {
     "data": {
      "text/plain": [
       "Model_ID  Question_Type\n",
       "1         Behavioral       4.3\n",
       "          Technical        4.5\n",
       "2         Behavioral       4.6\n",
       "          Technical        4.1\n",
       "4         Behavioral       4.0\n",
       "          Technical        4.0\n",
       "5         Behavioral       4.9\n",
       "          Technical        5.0\n",
       "Name: Model_Score, dtype: float64"
      ]
     },
     "execution_count": 33,
     "metadata": {},
     "output_type": "execute_result"
    }
   ],
   "source": [
    "grouped_df"
   ]
  },
  {
   "cell_type": "code",
   "execution_count": 57,
   "id": "dce50f4a-40c2-4b9f-b54a-384703434a56",
   "metadata": {},
   "outputs": [
    {
     "data": {
      "image/png": "[encoded data removed]",
      "text/plain": [
       "<Figure size 1000x600 with 1 Axes>"
      ]
     },
     "metadata": {},
     "output_type": "display_data"
    }
   ],
   "source": [
    "#Plotting \n",
    "\n",
    "# Unstack the grouped data for plotting\n",
    "unstacked_df = grouped_df.unstack()\n",
    "\n",
    "# Create the bar chart\n",
    "ax = unstacked_df.plot(kind='bar', figsize=(10, 6))\n",
    "plt.title('Mean Model Score by Model ID and Question Type')\n",
    "plt.xlabel('Model ID')\n",
    "plt.ylabel('Mean Model Score')\n",
    "plt.xticks(rotation=0)  # Prevent x-axis labels from overlapping\n",
    "plt.legend(title='Question Type')\n",
    "plt.tight_layout()\n",
    "plt.show()"
   ]
  },
  {
   "cell_type": "code",
   "execution_count": 59,
   "id": "0730f80f-17d4-436f-bd65-c7925b1fd3ee",
   "metadata": {},
   "outputs": [],
   "source": [
    "grouped_df2 = df.groupby(['Question_Type', 'Gender_Prompt'])['Model_Score'].mean()"
   ]
  },
  {
   "cell_type": "code",
   "execution_count": 47,
   "id": "b2e50c74-ae0c-49d4-a6b8-352c670f6fdf",
   "metadata": {},
   "outputs": [
    {
     "data": {
      "text/plain": [
       "Question_Type  Gender_Prompt\n",
       "Behavioral     Female           4.45\n",
       "               Male             4.45\n",
       "Technical      Female           4.40\n",
       "               Male             4.40\n",
       "Name: Model_Score, dtype: float64"
      ]
     },
     "execution_count": 47,
     "metadata": {},
     "output_type": "execute_result"
    }
   ],
   "source": [
    "grouped_df2"
   ]
  },
  {
   "cell_type": "code",
   "execution_count": 63,
   "id": "68251c9e-454b-4961-9cec-7270b38aee1e",
   "metadata": {},
   "outputs": [
    {
     "data": {
      "image/png": "[encoded data removed]",
      "text/plain": [
       "<Figure size 1000x600 with 1 Axes>"
      ]
     },
     "metadata": {},
     "output_type": "display_data"
    }
   ],
   "source": [
    "# Unstack the grouped data for plotting\n",
    "unstacked_df2 = grouped_df2.unstack()\n",
    "\n",
    "# Create the bar chart\n",
    "ax = unstacked_df2.plot(kind='bar', figsize=(10, 6))\n",
    "plt.title('Mean Model Score by Gender and Question Type')\n",
    "plt.xlabel('Question Type')\n",
    "plt.ylabel('Mean Model Score')\n",
    "plt.xticks(rotation=0)  # Prevent x-axis labels from overlapping\n",
    "plt.legend(title='Question Type')\n",
    "plt.tight_layout()\n",
    "plt.show()"
   ]
  },
  {
   "cell_type": "markdown",
   "id": "6beba001-61db-4f5b-bd6c-b762acc917cc",
   "metadata": {},
   "source": [
    "### Human Feedback Analysis"
   ]
  },
  {
   "cell_type": "code",
   "execution_count": 76,
   "id": "3effc16d-6d74-47f4-b8ae-aa843b2117f0",
   "metadata": {},
   "outputs": [],
   "source": [
    "grouped_df3 = df.groupby(['Model_ID', 'Question_Type'])['Male_HumanScorer'].mean()"
   ]
  },
  {
   "cell_type": "code",
   "execution_count": 78,
   "id": "a2ba5c6e-58d5-445d-8585-a3a3855d810c",
   "metadata": {},
   "outputs": [
    {
     "data": {
      "text/plain": [
       "Model_ID  Question_Type\n",
       "1         Behavioral       3.9\n",
       "          Technical        4.2\n",
       "2         Behavioral       4.5\n",
       "          Technical        4.0\n",
       "4         Behavioral       3.6\n",
       "          Technical        3.7\n",
       "5         Behavioral       4.5\n",
       "          Technical        4.1\n",
       "Name: Male_HumanScorer, dtype: float64"
      ]
     },
     "execution_count": 78,
     "metadata": {},
     "output_type": "execute_result"
    }
   ],
   "source": [
    "grouped_df3"
   ]
  },
  {
   "cell_type": "code",
   "execution_count": 80,
   "id": "e99ffe47-afe8-4c42-8fd5-db0e4c66d1c4",
   "metadata": {},
   "outputs": [],
   "source": [
    "grouped_df4 = df.groupby(['Model_ID', 'Question_Type'])['Female_HumanScorer'].mean()"
   ]
  },
  {
   "cell_type": "code",
   "execution_count": 82,
   "id": "50ec2a24-b1d1-46a9-aaae-e0b1c87bdfbb",
   "metadata": {},
   "outputs": [
    {
     "data": {
      "text/plain": [
       "Model_ID  Question_Type\n",
       "1         Behavioral       4.5\n",
       "          Technical        4.3\n",
       "2         Behavioral       4.2\n",
       "          Technical        4.8\n",
       "4         Behavioral       3.3\n",
       "          Technical        4.2\n",
       "5         Behavioral       4.4\n",
       "          Technical        4.2\n",
       "Name: Female_HumanScorer, dtype: float64"
      ]
     },
     "execution_count": 82,
     "metadata": {},
     "output_type": "execute_result"
    }
   ],
   "source": [
    "grouped_df4"
   ]
  },
  {
   "cell_type": "code",
   "execution_count": 92,
   "id": "db7b123a-fb18-4c69-90a0-b68c5cdfed30",
   "metadata": {},
   "outputs": [],
   "source": [
    "grouped_df5 = df.groupby(['Model_ID', 'Question_Type'])['Human_Avg_Score'].mean()"
   ]
  },
  {
   "cell_type": "code",
   "execution_count": 94,
   "id": "4d70b39e-c5c1-4278-9d42-c54a333e211e",
   "metadata": {},
   "outputs": [
    {
     "data": {
      "text/plain": [
       "Model_ID  Question_Type\n",
       "1         Behavioral       4.20\n",
       "          Technical        4.25\n",
       "2         Behavioral       4.35\n",
       "          Technical        4.40\n",
       "4         Behavioral       3.45\n",
       "          Technical        3.95\n",
       "5         Behavioral       4.45\n",
       "          Technical        4.15\n",
       "Name: Human_Avg_Score, dtype: float64"
      ]
     },
     "execution_count": 94,
     "metadata": {},
     "output_type": "execute_result"
    }
   ],
   "source": [
    "grouped_df5"
   ]
  },
  {
   "cell_type": "markdown",
   "id": "c2350cbe-9f49-4919-b812-61246e6da8be",
   "metadata": {},
   "source": [
    "### Model & Human Feedback Analysis "
   ]
  },
  {
   "cell_type": "code",
   "execution_count": 101,
   "id": "83f27d2d-588a-4336-9fe2-e18103ce1cf1",
   "metadata": {},
   "outputs": [],
   "source": [
    "grouped_df6 = df.groupby(['Question_ID'])[['Human_Avg_Score','Model_Score']].mean()"
   ]
  },
  {
   "cell_type": "code",
   "execution_count": 103,
   "id": "cd2e8188-6cf0-4e34-9eba-eb41712776b3",
   "metadata": {},
   "outputs": [
    {
     "data": {
      "text/html": [
       "<div>\n",
       "<style scoped>\n",
       "    .dataframe tbody tr th:only-of-type {\n",
       "        vertical-align: middle;\n",
       "    }\n",
       "\n",
       "    .dataframe tbody tr th {\n",
       "        vertical-align: top;\n",
       "    }\n",
       "\n",
       "    .dataframe thead th {\n",
       "        text-align: right;\n",
       "    }\n",
       "</style>\n",
       "<table border=\"1\" class=\"dataframe\">\n",
       "  <thead>\n",
       "    <tr style=\"text-align: right;\">\n",
       "      <th></th>\n",
       "      <th>Human_Avg_Score</th>\n",
       "      <th>Model_Score</th>\n",
       "    </tr>\n",
       "    <tr>\n",
       "      <th>Question_ID</th>\n",
       "      <th></th>\n",
       "      <th></th>\n",
       "    </tr>\n",
       "  </thead>\n",
       "  <tbody>\n",
       "    <tr>\n",
       "      <th>1</th>\n",
       "      <td>4.3125</td>\n",
       "      <td>4.375</td>\n",
       "    </tr>\n",
       "    <tr>\n",
       "      <th>2</th>\n",
       "      <td>4.1875</td>\n",
       "      <td>4.375</td>\n",
       "    </tr>\n",
       "    <tr>\n",
       "      <th>3</th>\n",
       "      <td>4.1875</td>\n",
       "      <td>4.750</td>\n",
       "    </tr>\n",
       "    <tr>\n",
       "      <th>4</th>\n",
       "      <td>4.0625</td>\n",
       "      <td>4.500</td>\n",
       "    </tr>\n",
       "    <tr>\n",
       "      <th>5</th>\n",
       "      <td>3.8125</td>\n",
       "      <td>4.250</td>\n",
       "    </tr>\n",
       "    <tr>\n",
       "      <th>6</th>\n",
       "      <td>4.3750</td>\n",
       "      <td>4.250</td>\n",
       "    </tr>\n",
       "    <tr>\n",
       "      <th>7</th>\n",
       "      <td>3.8750</td>\n",
       "      <td>4.375</td>\n",
       "    </tr>\n",
       "    <tr>\n",
       "      <th>8</th>\n",
       "      <td>4.5625</td>\n",
       "      <td>4.500</td>\n",
       "    </tr>\n",
       "    <tr>\n",
       "      <th>9</th>\n",
       "      <td>4.0625</td>\n",
       "      <td>4.250</td>\n",
       "    </tr>\n",
       "    <tr>\n",
       "      <th>10</th>\n",
       "      <td>4.0625</td>\n",
       "      <td>4.625</td>\n",
       "    </tr>\n",
       "  </tbody>\n",
       "</table>\n",
       "</div>"
      ],
      "text/plain": [
       "             Human_Avg_Score  Model_Score\n",
       "Question_ID                              \n",
       "1                     4.3125        4.375\n",
       "2                     4.1875        4.375\n",
       "3                     4.1875        4.750\n",
       "4                     4.0625        4.500\n",
       "5                     3.8125        4.250\n",
       "6                     4.3750        4.250\n",
       "7                     3.8750        4.375\n",
       "8                     4.5625        4.500\n",
       "9                     4.0625        4.250\n",
       "10                    4.0625        4.625"
      ]
     },
     "execution_count": 103,
     "metadata": {},
     "output_type": "execute_result"
    }
   ],
   "source": [
    "grouped_df6"
   ]
  },
  {
   "cell_type": "code",
   "execution_count": 121,
   "id": "190a33a5-1919-4d5c-8415-522d35ec7ca1",
   "metadata": {},
   "outputs": [
    {
     "name": "stdout",
     "output_type": "stream",
     "text": [
      "<class 'pandas.core.frame.DataFrame'>\n",
      "Index: 80 entries, 1 to 80\n",
      "Data columns (total 12 columns):\n",
      " #   Column               Non-Null Count  Dtype  \n",
      "---  ------               --------------  -----  \n",
      " 0   Question_ID          80 non-null     int64  \n",
      " 1   Model_ID             80 non-null     int64  \n",
      " 2   Question_Type        80 non-null     object \n",
      " 3   Interview Question   80 non-null     object \n",
      " 4   Prompt_for_Response  80 non-null     object \n",
      " 5   Gender_Prompt        80 non-null     object \n",
      " 6   Model_Response       80 non-null     object \n",
      " 7   Model_Score          80 non-null     int64  \n",
      " 8   Model_Name           80 non-null     object \n",
      " 9   Female_HumanScorer   80 non-null     int64  \n",
      " 10  Male_HumanScorer     80 non-null     int64  \n",
      " 11  Human_Avg_Score      80 non-null     float64\n",
      "dtypes: float64(1), int64(5), object(6)\n",
      "memory usage: 8.1+ KB\n"
     ]
    }
   ],
   "source": [
    "df.info()"
   ]
  },
  {
   "cell_type": "code",
   "execution_count": 143,
   "id": "5e667ba9-878f-4bc1-b628-941b375c85b3",
   "metadata": {},
   "outputs": [
    {
     "data": {
      "image/png": "[encoded data removed]",
      "text/plain": [
       "<Figure size 1200x600 with 1 Axes>"
      ]
     },
     "metadata": {},
     "output_type": "display_data"
    }
   ],
   "source": [
    "df_avg = df.groupby('Question_ID')[['Human_Avg_Score', 'Model_Score']].mean().reset_index()\n",
    "\n",
    "# Melt the DataFrame for Seaborn\n",
    "df_melted = df_avg.melt(id_vars='Question_ID', var_name='Score_Type', value_name='Score')\n",
    "\n",
    "# Create the grouped bar chart\n",
    "plt.figure(figsize=(12, 6))\n",
    "\n",
    "# Use a palette with brown and black\n",
    "palette = {\"Human_Avg_Score\": \"#8B4513\", \"Model_Score\": \"#000000\"}  # Brown and black\n",
    "ax = sns.barplot(x='Question_ID', y='Score', hue='Score_Type', data=df_melted, palette=palette)\n",
    "\n",
    "\n",
    "# Customize the legend\n",
    "handles, labels = ax.get_legend_handles_labels()\n",
    "new_labels = [\"Avg Human Score\", \"Avg Model Score\"]\n",
    "ax.legend(handles=handles, labels=new_labels, title=\"Score Type\")\n",
    "\n",
    "\n",
    "plt.title('Average Human Score vs. Average Model Score by Model ID')\n",
    "plt.xlabel('Question ID')\n",
    "plt.ylabel('Average Score')\n",
    "\n",
    "# Save the plot to a PNG file\n",
    "plt.savefig(\"grouped_bar_chart1.png\")\n",
    "\n",
    "plt.show()"
   ]
  },
  {
   "cell_type": "code",
   "execution_count": 141,
   "id": "e9f91e43-a844-43c2-9889-3b128bb22c0c",
   "metadata": {},
   "outputs": [
    {
     "data": {
      "image/png": "[encoded data removed]",
      "text/plain": [
       "<Figure size 1200x600 with 1 Axes>"
      ]
     },
     "metadata": {},
     "output_type": "display_data"
    }
   ],
   "source": [
    "df_avg = df.groupby('Model_ID')[['Human_Avg_Score', 'Model_Score']].mean().reset_index()\n",
    "\n",
    "# Melt the DataFrame for Seaborn\n",
    "df_melted = df_avg.melt(id_vars='Model_ID', var_name='Score_Type', value_name='Score')\n",
    "\n",
    "# Create the grouped bar chart\n",
    "plt.figure(figsize=(12, 6))\n",
    "\n",
    "# Use a palette with brown and black\n",
    "palette = {\"Human_Avg_Score\": \"#8B4513\", \"Model_Score\": \"#000000\"}  # Brown and black\n",
    "ax = sns.barplot(x='Model_ID', y='Score', hue='Score_Type', data=df_melted, palette=palette)\n",
    "\n",
    "\n",
    "# Customize the legend\n",
    "handles, labels = ax.get_legend_handles_labels()\n",
    "new_labels = [\"Avg Human Score\", \"Avg Model Score\"]\n",
    "ax.legend(handles=handles, labels=new_labels, title=\"Score Type\")\n",
    "\n",
    "\n",
    "plt.title('Average Human Score vs. Average Model Score by Model ID')\n",
    "plt.xlabel('Model ID')\n",
    "plt.ylabel('Average Score')\n",
    "\n",
    "# Save the plot to a PNG file\n",
    "plt.savefig(\"grouped_bar_chart.png\")\n",
    "\n",
    "plt.show()"
   ]
  },
  {
   "cell_type": "code",
   "execution_count": null,
   "id": "3ecffb6e-c7e4-4c63-84ec-3f7a7e6415c1",
   "metadata": {},
   "outputs": [],
   "source": []
  }
 ],
 "metadata": {
  "kernelspec": {
   "display_name": "Python 3 (ipykernel)",
   "language": "python",
   "name": "python3"
  },
  "language_info": {
   "codemirror_mode": {
    "name": "ipython",
    "version": 3
   },
   "file_extension": ".py",
   "mimetype": "text/x-python",
   "name": "python",
   "nbconvert_exporter": "python",
   "pygments_lexer": "ipython3",
   "version": "3.12.4"
  }
 },
 "nbformat": 4,
 "nbformat_minor": 5
}
